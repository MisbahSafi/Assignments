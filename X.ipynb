{
 "cells": [
  {
   "cell_type": "code",
   "execution_count": 2,
   "metadata": {},
   "outputs": [
    {
     "ename": "IndentationError",
     "evalue": "expected an indented block after 'if' statement on line 2 (3423269275.py, line 3)",
     "output_type": "error",
     "traceback": [
      "\u001b[1;36m  Cell \u001b[1;32mIn[2], line 3\u001b[1;36m\u001b[0m\n\u001b[1;33m    print(s)\u001b[0m\n\u001b[1;37m    ^\u001b[0m\n\u001b[1;31mIndentationError\u001b[0m\u001b[1;31m:\u001b[0m expected an indented block after 'if' statement on line 2\n"
     ]
    }
   ],
   "source": [
    "\n",
    "def print_n(s, n):\n",
    "    if n > 0:\n",
    "    print(s)\n",
    "    print_n(s, n-1)\n",
    "    return n\n",
    "n = 3\n",
    "\n",
    "while print_n(\"hi\", n):\n",
    "    print_n(\"there!\", n)\n",
    "\n",
    "n = 0"
   ]
  },
  {
   "cell_type": "code",
   "execution_count": 2,
   "metadata": {},
   "outputs": [
    {
     "name": "stdout",
     "output_type": "stream",
     "text": [
      "{'brand': 'Ford', 'model': 'Mustang', 'year': 2020}\n",
      "3\n"
     ]
    }
   ],
   "source": [
    "thisdict = {\n",
    "  \"brand\": \"Ford\",\n",
    "  \"model\": \"Mustang\",\n",
    "  \"year\": 1964,\n",
    "  \"year\": 2020\n",
    "}\n",
    "print (thisdict)\n",
    "\n",
    "print (len(thisdict))\n",
    "\n"
   ]
  },
  {
   "cell_type": "code",
   "execution_count": 3,
   "metadata": {},
   "outputs": [
    {
     "data": {
      "text/plain": [
       "True"
      ]
     },
     "execution_count": 3,
     "metadata": {},
     "output_type": "execute_result"
    }
   ],
   "source": [
    "(0, 1, 5, 2) > (0, 1.0, 4, 3.1)"
   ]
  },
  {
   "cell_type": "code",
   "execution_count": 4,
   "metadata": {},
   "outputs": [
    {
     "name": "stdout",
     "output_type": "stream",
     "text": [
      "help!\n"
     ]
    }
   ],
   "source": [
    " print(dict().get(\"no\", \"help!\"))\n",
    "\n"
   ]
  },
  {
   "cell_type": "code",
   "execution_count": 5,
   "metadata": {},
   "outputs": [
    {
     "name": "stdout",
     "output_type": "stream",
     "text": [
      "banana\n",
      "grape\n"
     ]
    }
   ],
   "source": [
    "d = {'apple': 1, 'banana': 2, 'orange': 3, 'grape': 2}\n",
    "\n",
    "v = 2 \n",
    "\n",
    "for k in d:\n",
    "    if d[k] == v:\n",
    "        print(k) "
   ]
  },
  {
   "cell_type": "code",
   "execution_count": 10,
   "metadata": {},
   "outputs": [],
   "source": [
    "# Assume that d is a Python dictionary. What does the following Python code produce?\n",
    "result = dict()\n",
    "for key in d:\n",
    "    val = d[key]\n",
    "    if val not in result:\n",
    "        result[val] = [key]\n",
    "    else:\n",
    "        result[val].append(key)\n",
    "\n",
    "# Select one:\n",
    "\n",
    "# a.\n",
    "# a histogram\n",
    "\n",
    "# b.\n",
    "# an inverted dictionary\n",
    "\n",
    "# c.\n",
    "# a list of tuples\n",
    "\n",
    "# d.\n",
    "# a lookup\n",
    "\n",
    "# e.\n",
    "# a reverse lookup"
   ]
  },
  {
   "cell_type": "code",
   "execution_count": 8,
   "metadata": {},
   "outputs": [
    {
     "name": "stdout",
     "output_type": "stream",
     "text": [
      "(1, 2, 2, 3)\n"
     ]
    }
   ],
   "source": [
    "my_tup = (3, 2, 1, 2)\n",
    "print(tuple(sorted(my_tup)))"
   ]
  },
  {
   "cell_type": "code",
   "execution_count": 13,
   "metadata": {},
   "outputs": [
    {
     "name": "stdout",
     "output_type": "stream",
     "text": [
      "None\n"
     ]
    }
   ],
   "source": [
    "my_list = [3, 2, 1]\n",
    "print(my_list.sort())"
   ]
  }
 ],
 "metadata": {
  "kernelspec": {
   "display_name": "Python 3",
   "language": "python",
   "name": "python3"
  },
  "language_info": {
   "codemirror_mode": {
    "name": "ipython",
    "version": 3
   },
   "file_extension": ".py",
   "mimetype": "text/x-python",
   "name": "python",
   "nbconvert_exporter": "python",
   "pygments_lexer": "ipython3",
   "version": "3.12.1"
  }
 },
 "nbformat": 4,
 "nbformat_minor": 2
}
