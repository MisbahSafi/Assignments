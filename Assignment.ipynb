{
 "cells": [
  {
   "cell_type": "code",
   "execution_count": 5,
   "metadata": {},
   "outputs": [
    {
     "name": "stdout",
     "output_type": "stream",
     "text": [
      "hello\n",
      "8\n"
     ]
    }
   ],
   "source": [
    "def my(num): # parameter\n",
    "    print('hello')\n",
    "    print(num)\n",
    "my(num=8) # argumemts"
   ]
  },
  {
   "cell_type": "code",
   "execution_count": 6,
   "metadata": {},
   "outputs": [
    {
     "name": "stdout",
     "output_type": "stream",
     "text": [
      "hello\n",
      "45\n"
     ]
    }
   ],
   "source": [
    "my(45)"
   ]
  },
  {
   "cell_type": "code",
   "execution_count": 10,
   "metadata": {},
   "outputs": [
    {
     "name": "stdout",
     "output_type": "stream",
     "text": [
      "13\n"
     ]
    }
   ],
   "source": [
    "def sum(num1, num2):\n",
    "    print(num1 + num2)\n",
    "\n",
    "\n",
    "sum(num1=5, num2=8)"
   ]
  },
  {
   "cell_type": "code",
   "execution_count": 11,
   "metadata": {},
   "outputs": [
    {
     "name": "stdout",
     "output_type": "stream",
     "text": [
      "11\n"
     ]
    }
   ],
   "source": [
    "sum(4,7)"
   ]
  },
  {
   "cell_type": "code",
   "execution_count": 5,
   "metadata": {},
   "outputs": [
    {
     "name": "stdout",
     "output_type": "stream",
     "text": [
      "Hello, world!\n",
      "Hello, world\n",
      "8\n"
     ]
    }
   ],
   "source": [
    "def my_function(parameter): # parameter is the value which we recieve here when someone calling this function.\n",
    "  \"\"\" This function takes an argument and prints it.\"\"\"\n",
    "  print(parameter)\n",
    "\n",
    "# Call the function with the string \"Hello, world!\" as the argument\n",
    "# first methods through direct passing the value.\n",
    "my_function(\"Hello, world!\") # arguments\n",
    "# Second method by passing the variable.\n",
    "greet = 'Hello, world'\n",
    "my_function(greet)\n",
    "#  Third method by passing the expression.\n",
    "n = 3\n",
    "exp = n + 5\n",
    "my_function(exp)"
   ]
  },
  {
   "cell_type": "code",
   "execution_count": 2,
   "metadata": {},
   "outputs": [
    {
     "name": "stdout",
     "output_type": "stream",
     "text": [
      "Misbah\n"
     ]
    }
   ],
   "source": [
    "name='Misbah'\n",
    "my_function(name)"
   ]
  },
  {
   "cell_type": "code",
   "execution_count": 3,
   "metadata": {},
   "outputs": [
    {
     "name": "stdout",
     "output_type": "stream",
     "text": [
      "6\n"
     ]
    }
   ],
   "source": [
    "expression = 2 + 4\n",
    "my_function(expression)"
   ]
  },
  {
   "cell_type": "code",
   "execution_count": 1,
   "metadata": {},
   "outputs": [
    {
     "name": "stdout",
     "output_type": "stream",
     "text": [
      "message is not defined outside the function.\n",
      "Hello, Mike Tyson!\n"
     ]
    }
   ],
   "source": [
    "def greet(name):\n",
    "  \"\"\"This function greets someone by name.\"\"\"\n",
    "  message = \"Hello, \" + name + \"!\"\n",
    "  print(message)\n",
    "\n",
    "# Try to use the variable outside the function\n",
    "try:\n",
    "  print(\"Outside the function:\", message)\n",
    "except NameError:\n",
    "  print(\"message is not defined outside the function.\")\n",
    "\n",
    "greet(\"Mike Tyson\")\n"
   ]
  },
  {
   "cell_type": "code",
   "execution_count": 1,
   "metadata": {},
   "outputs": [
    {
     "name": "stdout",
     "output_type": "stream",
     "text": [
      "The circumference of the circle is: 12.57\n",
      "The circumference of the circle is: 31.42\n",
      "The circumference of the circle is: 62.83\n"
     ]
    }
   ],
   "source": [
    "import math\n",
    "\n",
    "def print_circum(radius):\n",
    "  \"\"\"\n",
    "  Calculates and prints the circumference of a circle.\n",
    "\n",
    "  Args:\n",
    "    radius: The radius of the circle.\n",
    "\n",
    "  Returns:\n",
    "    None\n",
    "  \"\"\"\n",
    "  circumference = 2 * math.pi * radius\n",
    "  print(f\"The circumference of the circle is: {circumference:.2f}\")\n",
    "\n",
    "# Call the function three times with different radius values\n",
    "print_circum(2)\n",
    "print_circum(5)\n",
    "print_circum(10)\n"
   ]
  },
  {
   "cell_type": "code",
   "execution_count": 1,
   "metadata": {},
   "outputs": [
    {
     "name": "stdout",
     "output_type": "stream",
     "text": [
      "10\n"
     ]
    }
   ],
   "source": [
    "def my_function():\n",
    "  \n",
    "  ##This function demonstrates the scope of local variables.\n",
    "  \n",
    "  local_var = 10  # This is a local variable\n",
    "\n",
    "  # Try to access the local variable outside the function\n",
    "  try:\n",
    "    print(local_var)\n",
    "  except NameError:\n",
    "    print(\"Error: local_var is not defined outside the function\")\n",
    "\n",
    "# Call the function\n",
    "my_function()\n"
   ]
  },
  {
   "cell_type": "code",
   "execution_count": 1,
   "metadata": {},
   "outputs": [
    {
     "name": "stdout",
     "output_type": "stream",
     "text": [
      "Online Store\n",
      "———————————————\n",
      "Product(s)                         Price\n",
      "Item 1                      200.00\n",
      "Item 2                      400.00\n",
      "Item 3                      600.00\n",
      "Item 1, Item 2                      540.00\n",
      "Item 2, Item 3                      900.00\n",
      "Item 1, Item 1                      360.00\n",
      "Item 1, Item 2, Item 3                      900.00\n"
     ]
    }
   ],
   "source": [
    "def catalog(item_prices, purchase_combinations):\n",
    "    \"\"\"\n",
    "    Calculates the total price for different purchase combinations of items.\n",
    "\n",
    "    Args:\n",
    "        item_prices (dict): A dictionary mapping item names to their prices.\n",
    "        purchase_combinations (list): A list of tuples, where each tuple represents\n",
    "            a purchase combination. The first element of the tuple is the combination\n",
    "            type (\"individual\", \"combo\", or \"giftpack\"), and the remaining elements\n",
    "            are the item names in the combination.\n",
    "\n",
    "    Returns:\n",
    "        dict: A dictionary mapping purchase combinations to their total prices.\n",
    "    \"\"\"\n",
    "\n",
    "    total_prices = {}\n",
    "    for combination_type, *items in purchase_combinations:\n",
    "        price = sum(item_prices[item] for item in items)\n",
    "\n",
    "        if combination_type == \"individual\":\n",
    "            pass  # No discount for individual items\n",
    "        elif combination_type == \"combo\":\n",
    "            if len(items) == 2:  # Ensure it's a valid combo (2 unique items)\n",
    "                price *= 0.9  # Apply 10% discount\n",
    "        elif combination_type == \"giftpack\":\n",
    "            if len(items) == 3:  # Ensure it's a valid giftpack (all items)\n",
    "                price *= 0.75  # Apply 25% discount\n",
    "            else:\n",
    "                raise ValueError(\"Invalid giftpack: must contain all items\")\n",
    "        elif combination_type == \"giftpack\":\n",
    "            if len(items) == len(item_prices):\n",
    "                price *= 0.75  # Apply 25% discount\n",
    "            else:\n",
    "                print(f\"Warning: Invalid giftpack (missing items): {combination}\")\n",
    "                continue \n",
    "        else:\n",
    "            raise ValueError(\"Invalid combination type:\", combination_type)\n",
    "\n",
    "        total_prices[(combination_type, *items)] = price\n",
    "\n",
    "    return total_prices\n",
    "\n",
    "# Example usage:\n",
    "item_prices = {\"Item 1\": 200, \"Item 2\": 400, \"Item 3\": 600}\n",
    "purchase_combinations = [\n",
    "    (\"individual\", \"Item 1\"),\n",
    "    (\"individual\", \"Item 2\"),\n",
    "    (\"individual\", \"Item 3\"),\n",
    "    (\"combo\", \"Item 1\", \"Item 2\"),\n",
    "    (\"combo\", \"Item 2\", \"Item 3\"),  # Invalid combo (should be Item 1 + Item 3)\n",
    "    (\"combo\", \"Item 1\", \"Item 1\"),  # Invalid combo (should be unique items)\n",
    "    (\"giftpack\", \"Item 1\", \"Item 2\", \"Item 3\")\n",
    "]\n",
    "\n",
    "total_prices = catalog(item_prices, purchase_combinations)\n",
    "\n",
    "# Print the results in the desired format\n",
    "print(\"Online Store\")\n",
    "print(\"———————————————\")\n",
    "print(\"Product(s)                         Price\")\n",
    "for combination, price in total_prices.items():\n",
    "    product_str = \", \".join(combination[1:]) if len(combination) > 1 else combination[1]\n",
    "    print(f\"{product_str}                      {price:.2f}\")\n",
    "\n",
    "# Handle invalid combinations gracefully\n",
    "for combination, price in total_prices.items():\n",
    "    if price < 0:\n",
    "        print(f\"Warning: Negative price for {combination}: {price:.2f}\")"
   ]
  },
  {
   "cell_type": "code",
   "execution_count": 6,
   "metadata": {},
   "outputs": [
    {
     "name": "stdout",
     "output_type": "stream",
     "text": [
      "Alice is 25 years old.\n",
      "Bob is 30 years old.\n",
      "Charlie is 35 years old.\n"
     ]
    }
   ],
   "source": [
    "names = ['Ali', 'Bob', 'Charlie']\n",
    "ages = [25, 30, 35]\n",
    "\n",
    "# Using zip to iterate over both lists simultaneously\n",
    "for name, age in zip(names, ages):\n",
    "    print(f\"{name} is {age} years old.\")\n",
    "\n",
    "# Output:\n",
    "# Ali is 25 years old.\n",
    "# Bob is 30 years old.\n",
    "# Charlie is 35 years old.\n",
    "\n",
    "\n",
    "# The zip() function combines elements from multiple iterables (in this case, names and ages) into tuples. \n",
    "# The for loop then iterates over these tuples, unpacking each tuple into name and age variables for easy access to corresponding elements.\n",
    "\n"
   ]
  },
  {
   "cell_type": "code",
   "execution_count": 8,
   "metadata": {},
   "outputs": [
    {
     "name": "stdout",
     "output_type": "stream",
     "text": [
      "Index 0: apple\n",
      "Index 1: banana\n",
      "Index 2: cherry\n"
     ]
    }
   ],
   "source": [
    "fruits = ['apple', 'banana', 'cherry']\n",
    "\"\"\"\n",
    "The enumerate() function adds a counter to an iterable (here, fruits), returning tuples containing the index and the corresponding value.\n",
    "\n",
    "The for loop unpacks these tuples into index and fruit variables for iteration. \n",
    "\"\"\"\n",
    "# Using enumerate to get both index and value\n",
    "for index, fruit in enumerate(fruits):\n",
    "    print(f\"Index {index}: {fruit}\")\n",
    "\n",
    "# Output:\n",
    "# Index 0: apple\n",
    "# Index 1: banana\n",
    "# Index 2: cherry\n",
    "\n"
   ]
  },
  {
   "cell_type": "code",
   "execution_count": 4,
   "metadata": {},
   "outputs": [
    {
     "name": "stdout",
     "output_type": "stream",
     "text": [
      "name: Ali\n",
      "age: 25\n",
      "city: New York\n"
     ]
    }
   ],
   "source": [
    "person = {'name': 'Ali', 'age': 25, 'city': 'New York'}\n",
    "\n",
    "# Using items() to iterate over key-value pairs\n",
    "for key, value in person.items():\n",
    "    print(f\"{key}: {value}\")\n",
    "\n",
    "# Output:\n",
    "# name: Ali\n",
    "# age: 25\n",
    "# city: New York\n",
    "\n",
    "# The items() method returns a view object that displays a list of a dictionary's key-value tuple pairs. \n",
    "# The for loop iterates over these tuples, unpacking each into key and value variables for easy access during iteration."
   ]
  },
  {
   "cell_type": "code",
   "execution_count": 1,
   "metadata": {},
   "outputs": [
    {
     "name": "stdout",
     "output_type": "stream",
     "text": [
      "Original Dictionary:\n",
      "{'Stud1': ['CS1101', 'CS2402', 'CS2001'], 'Stud2': ['CS2402', 'CS2001', 'CS1102']}\n",
      "\n",
      "Inverted Dictionary:\n",
      "{'CS1101': ['Stud1'], 'CS2402': ['Stud1', 'Stud2'], 'CS2001': ['Stud1', 'Stud2'], 'CS1102': ['Stud2']}\n"
     ]
    }
   ],
   "source": [
    "def invert_dictionary(input_dict):\n",
    "    inverted_dict = {}\n",
    "    for student, courses in input_dict.items():\n",
    "        for course in courses:\n",
    "            if course not in inverted_dict:\n",
    "                inverted_dict[course] = []\n",
    "            inverted_dict[course].append(student)\n",
    "    return inverted_dict\n",
    "\n",
    "# Sample input dictionary\n",
    "input_dict = {\n",
    "    'Stud1': ['CS1101', 'CS2402', 'CS2001'],\n",
    "    'Stud2': ['CS2402', 'CS2001', 'CS1102']\n",
    "}\n",
    "\n",
    "# Printing original dictionary\n",
    "print(\"Original Dictionary:\")\n",
    "print(input_dict)\n",
    "\n",
    "# Inverting the dictionary\n",
    "inverted_dict = invert_dictionary(input_dict)\n",
    "\n",
    "# Printing inverted dictionary\n",
    "print(\"\\nInverted Dictionary:\")\n",
    "print(inverted_dict)\n"
   ]
  },
  {
   "cell_type": "code",
   "execution_count": 2,
   "metadata": {},
   "outputs": [
    {
     "name": "stdout",
     "output_type": "stream",
     "text": [
      "Original dictionary:\n",
      "{'Stud1': ['CS1101', 'CS2402', 'CS2001'], 'Stud2': ['CS2402', 'CS2001', 'CS1102']}\n",
      "\n",
      "Inverted dictionary:\n",
      "{'CS1101': ['Stud1'], 'CS2402': ['Stud1', 'Stud2'], 'CS2001': ['Stud1', 'Stud2'], 'CS1102': ['Stud2']}\n"
     ]
    }
   ],
   "source": [
    "def invert_student_course_dict(student_courses):\n",
    "    inverted_dict = {}\n",
    "    for student, courses in student_courses.items():\n",
    "        for course in courses:\n",
    "            if course not in inverted_dict:\n",
    "                inverted_dict[course] = [student]\n",
    "            else:\n",
    "                inverted_dict[course].append(student)\n",
    "    return inverted_dict\n",
    "\n",
    "# Sample input\n",
    "student_courses = {\n",
    "    'Stud1': ['CS1101', 'CS2402', 'CS2001'],\n",
    "    'Stud2': ['CS2402', 'CS2001', 'CS1102']\n",
    "}\n",
    "\n",
    "# Inverting the dictionary\n",
    "inverted_dict = invert_student_course_dict(student_courses)\n",
    "\n",
    "# Printing the original and the inverted dictionaries\n",
    "print(\"Original dictionary:\")\n",
    "print(student_courses)\n",
    "print(\"\\nInverted dictionary:\")\n",
    "print(inverted_dict)"
   ]
  }
 ],
 "metadata": {
  "kernelspec": {
   "display_name": "Python 3",
   "language": "python",
   "name": "python3"
  },
  "language_info": {
   "codemirror_mode": {
    "name": "ipython",
    "version": 3
   },
   "file_extension": ".py",
   "mimetype": "text/x-python",
   "name": "python",
   "nbconvert_exporter": "python",
   "pygments_lexer": "ipython3",
   "version": "3.12.1"
  }
 },
 "nbformat": 4,
 "nbformat_minor": 2
}
